{
 "cells": [
  {
   "cell_type": "markdown",
   "id": "562540d1",
   "metadata": {},
   "source": [
    "# MILESTONE 1 :- DEFINE PROBLEM / PROBLEM UNDERSTANDING"
   ]
  },
  {
   "cell_type": "markdown",
   "id": "d38a0314",
   "metadata": {},
   "source": [
    "# MILESTONE 2 :- DATA COLLECTION AND PREPARATION"
   ]
  },
  {
   "cell_type": "markdown",
   "id": "4d36a4f3",
   "metadata": {},
   "source": [
    "### ACTIVITY 1: COLLECT THE DATASET"
   ]
  },
  {
   "cell_type": "markdown",
   "id": "2c0069e9",
   "metadata": {},
   "source": [
    "##### ACTIVITY 1.1 - IMPORTING LIBRARIES"
   ]
  },
  {
   "cell_type": "code",
   "execution_count": 1,
   "id": "abfbba5f",
   "metadata": {},
   "outputs": [],
   "source": [
    "import matplotlib.pyplot as plt\n",
    "import pandas as pd\n",
    "import seaborn as sns\n",
    "import pickle as pkl\n",
    "import numpy as np\n",
    "from sklearn import svm\n",
    "from sklearn.model_selection import train_test_split \n",
    "from sklearn.neighbors import KNeighborsClassifier\n",
    "from sklearn.ensemble import RandomForestClassifier\n",
    "from sklearn.linear_model import LogisticRegression, LogisticRegressionCV, RidgeClassifier\n",
    "from sklearn.model_selection import train_test_split, GridSearchCV\n",
    "from xgboost import XGBClassifier\n",
    "from sklearn.preprocessing import Normalizer\n",
    "from sklearn.metrics import accuracy_score,f1_score,recall_score,precision_score,confusion_matrix"
   ]
  },
  {
   "cell_type": "markdown",
   "id": "0b6bfdbc",
   "metadata": {},
   "source": [
    "##### ACTIVITY 1.2 - READ THE DATASET"
   ]
  },
  {
   "cell_type": "code",
   "execution_count": 2,
   "id": "a53c26ae",
   "metadata": {},
   "outputs": [
    {
     "data": {
      "text/html": [
       "<div>\n",
       "<style scoped>\n",
       "    .dataframe tbody tr th:only-of-type {\n",
       "        vertical-align: middle;\n",
       "    }\n",
       "\n",
       "    .dataframe tbody tr th {\n",
       "        vertical-align: top;\n",
       "    }\n",
       "\n",
       "    .dataframe thead th {\n",
       "        text-align: right;\n",
       "    }\n",
       "</style>\n",
       "<table border=\"1\" class=\"dataframe\">\n",
       "  <thead>\n",
       "    <tr style=\"text-align: right;\">\n",
       "      <th></th>\n",
       "      <th>ID</th>\n",
       "      <th>Warehouse_block</th>\n",
       "      <th>Mode_of_Shipment</th>\n",
       "      <th>Customer_care_calls</th>\n",
       "      <th>Customer_rating</th>\n",
       "      <th>Cost_of_the_Product</th>\n",
       "      <th>Prior_purchases</th>\n",
       "      <th>Product_importance</th>\n",
       "      <th>Gender</th>\n",
       "      <th>Discount_offered</th>\n",
       "      <th>Weight_in_gms</th>\n",
       "      <th>Reached.on.Time_Y.N</th>\n",
       "    </tr>\n",
       "  </thead>\n",
       "  <tbody>\n",
       "    <tr>\n",
       "      <th>0</th>\n",
       "      <td>1</td>\n",
       "      <td>D</td>\n",
       "      <td>Flight</td>\n",
       "      <td>4</td>\n",
       "      <td>2</td>\n",
       "      <td>177</td>\n",
       "      <td>3</td>\n",
       "      <td>low</td>\n",
       "      <td>F</td>\n",
       "      <td>44</td>\n",
       "      <td>1233</td>\n",
       "      <td>1</td>\n",
       "    </tr>\n",
       "    <tr>\n",
       "      <th>1</th>\n",
       "      <td>2</td>\n",
       "      <td>F</td>\n",
       "      <td>Flight</td>\n",
       "      <td>4</td>\n",
       "      <td>5</td>\n",
       "      <td>216</td>\n",
       "      <td>2</td>\n",
       "      <td>low</td>\n",
       "      <td>M</td>\n",
       "      <td>59</td>\n",
       "      <td>3088</td>\n",
       "      <td>1</td>\n",
       "    </tr>\n",
       "    <tr>\n",
       "      <th>2</th>\n",
       "      <td>3</td>\n",
       "      <td>A</td>\n",
       "      <td>Flight</td>\n",
       "      <td>2</td>\n",
       "      <td>2</td>\n",
       "      <td>183</td>\n",
       "      <td>4</td>\n",
       "      <td>low</td>\n",
       "      <td>M</td>\n",
       "      <td>48</td>\n",
       "      <td>3374</td>\n",
       "      <td>1</td>\n",
       "    </tr>\n",
       "    <tr>\n",
       "      <th>3</th>\n",
       "      <td>4</td>\n",
       "      <td>B</td>\n",
       "      <td>Flight</td>\n",
       "      <td>3</td>\n",
       "      <td>3</td>\n",
       "      <td>176</td>\n",
       "      <td>4</td>\n",
       "      <td>medium</td>\n",
       "      <td>M</td>\n",
       "      <td>10</td>\n",
       "      <td>1177</td>\n",
       "      <td>1</td>\n",
       "    </tr>\n",
       "    <tr>\n",
       "      <th>4</th>\n",
       "      <td>5</td>\n",
       "      <td>C</td>\n",
       "      <td>Flight</td>\n",
       "      <td>2</td>\n",
       "      <td>2</td>\n",
       "      <td>184</td>\n",
       "      <td>3</td>\n",
       "      <td>medium</td>\n",
       "      <td>F</td>\n",
       "      <td>46</td>\n",
       "      <td>2484</td>\n",
       "      <td>1</td>\n",
       "    </tr>\n",
       "  </tbody>\n",
       "</table>\n",
       "</div>"
      ],
      "text/plain": [
       "   ID Warehouse_block Mode_of_Shipment  Customer_care_calls  Customer_rating  \\\n",
       "0   1               D           Flight                    4                2   \n",
       "1   2               F           Flight                    4                5   \n",
       "2   3               A           Flight                    2                2   \n",
       "3   4               B           Flight                    3                3   \n",
       "4   5               C           Flight                    2                2   \n",
       "\n",
       "   Cost_of_the_Product  Prior_purchases Product_importance Gender  \\\n",
       "0                  177                3                low      F   \n",
       "1                  216                2                low      M   \n",
       "2                  183                4                low      M   \n",
       "3                  176                4             medium      M   \n",
       "4                  184                3             medium      F   \n",
       "\n",
       "   Discount_offered  Weight_in_gms  Reached.on.Time_Y.N  \n",
       "0                44           1233                    1  \n",
       "1                59           3088                    1  \n",
       "2                48           3374                    1  \n",
       "3                10           1177                    1  \n",
       "4                46           2484                    1  "
      ]
     },
     "execution_count": 2,
     "metadata": {},
     "output_type": "execute_result"
    }
   ],
   "source": [
    "data=pd.read_csv(r\"D:\\Users\\Varun\\Documents\\AIcourse\\AIML-Project\\Ecommerce-project\\Data\\Train.csv\")\n",
    "data.head()"
   ]
  },
  {
   "cell_type": "markdown",
   "id": "20c6b1ff",
   "metadata": {},
   "source": [
    "### ACTIVITY 2: DATA PREPARATION"
   ]
  },
  {
   "cell_type": "markdown",
   "id": "f4378ff2",
   "metadata": {},
   "source": [
    "##### ACTIVITY 2.1 - HANDLING MISSING VALUES"
   ]
  },
  {
   "cell_type": "code",
   "execution_count": 3,
   "id": "bf559165",
   "metadata": {},
   "outputs": [
    {
     "data": {
      "text/plain": [
       "(10999, 12)"
      ]
     },
     "execution_count": 3,
     "metadata": {},
     "output_type": "execute_result"
    }
   ],
   "source": [
    "data.shape"
   ]
  },
  {
   "cell_type": "code",
   "execution_count": 4,
   "id": "6613f63c",
   "metadata": {},
   "outputs": [
    {
     "name": "stdout",
     "output_type": "stream",
     "text": [
      "<class 'pandas.core.frame.DataFrame'>\n",
      "RangeIndex: 10999 entries, 0 to 10998\n",
      "Data columns (total 12 columns):\n",
      " #   Column               Non-Null Count  Dtype \n",
      "---  ------               --------------  ----- \n",
      " 0   ID                   10999 non-null  int64 \n",
      " 1   Warehouse_block      10999 non-null  object\n",
      " 2   Mode_of_Shipment     10999 non-null  object\n",
      " 3   Customer_care_calls  10999 non-null  int64 \n",
      " 4   Customer_rating      10999 non-null  int64 \n",
      " 5   Cost_of_the_Product  10999 non-null  int64 \n",
      " 6   Prior_purchases      10999 non-null  int64 \n",
      " 7   Product_importance   10999 non-null  object\n",
      " 8   Gender               10999 non-null  object\n",
      " 9   Discount_offered     10999 non-null  int64 \n",
      " 10  Weight_in_gms        10999 non-null  int64 \n",
      " 11  Reached.on.Time_Y.N  10999 non-null  int64 \n",
      "dtypes: int64(8), object(4)\n",
      "memory usage: 1.0+ MB\n"
     ]
    }
   ],
   "source": [
    "data.info()"
   ]
  },
  {
   "cell_type": "code",
   "execution_count": 5,
   "id": "ac0dfdb3",
   "metadata": {},
   "outputs": [
    {
     "data": {
      "text/plain": [
       "ID                     0\n",
       "Warehouse_block        0\n",
       "Mode_of_Shipment       0\n",
       "Customer_care_calls    0\n",
       "Customer_rating        0\n",
       "Cost_of_the_Product    0\n",
       "Prior_purchases        0\n",
       "Product_importance     0\n",
       "Gender                 0\n",
       "Discount_offered       0\n",
       "Weight_in_gms          0\n",
       "Reached.on.Time_Y.N    0\n",
       "dtype: int64"
      ]
     },
     "execution_count": 5,
     "metadata": {},
     "output_type": "execute_result"
    }
   ],
   "source": [
    "data.isnull().sum()"
   ]
  },
  {
   "cell_type": "markdown",
   "id": "e5d5edcf",
   "metadata": {},
   "source": [
    "##### ACTIVITY 2.2 - HANDLING CATEGORICAL VALUES"
   ]
  },
  {
   "cell_type": "code",
   "execution_count": 6,
   "id": "1aa5ff74",
   "metadata": {},
   "outputs": [
    {
     "data": {
      "text/plain": [
       "{'Warehouse_block': {'D': 0, 'F': 1, 'A': 2, 'B': 3, 'C': 4},\n",
       " 'Mode_of_Shipment': {'Flight': 0, 'Ship': 1, 'Road': 2},\n",
       " 'Product_importance': {'low': 0, 'medium': 1, 'high': 2},\n",
       " 'Gender': {'F': 0, 'M': 1}}"
      ]
     },
     "execution_count": 6,
     "metadata": {},
     "output_type": "execute_result"
    }
   ],
   "source": [
    "label_map={}\n",
    "\n",
    "for i in data.columns:\n",
    "    if str(data[i].dtype) == 'object':  \n",
    "        temp={}\n",
    "        cats=data[i].unique()\n",
    "        for index in range(len(cats)):\n",
    "            temp[cats[index]]=index\n",
    "        label_map[i]=temp\n",
    "        #Labeling\n",
    "        data[i]=data[i].map(temp)\n",
    "label_map"
   ]
  },
  {
   "cell_type": "markdown",
   "id": "517db7fb",
   "metadata": {},
   "source": [
    "##### ACTIVITY 2.3 - HANDLING OUTLIERS IN DATA"
   ]
  },
  {
   "cell_type": "code",
   "execution_count": 7,
   "id": "b30afa97",
   "metadata": {},
   "outputs": [
    {
     "data": {
      "image/png": "[encoded data removed]",
      "text/plain": [
       "<Figure size 1800x1000 with 6 Axes>"
      ]
     },
     "metadata": {},
     "output_type": "display_data"
    }
   ],
   "source": [
    "c=0\n",
    "plt.figure(figsize=(18, 10))\n",
    "\n",
    "for i in data.drop(columns=['Warehouse_block', 'Mode_of_Shipment', 'Product_importance', 'Gender', 'Reached.on.Time_Y.N','ID']).columns:\n",
    "    if str(data[i].dtype)== 'object':\n",
    "        continue\n",
    "    plt.subplot(2, 3, c+1)\n",
    "    plt.boxplot(data[i])\n",
    "    plt.title(i)\n",
    "    c+=1\n",
    "    \n",
    "plt.show()"
   ]
  },
  {
   "cell_type": "code",
   "execution_count": 8,
   "id": "62c667b6",
   "metadata": {},
   "outputs": [
    {
     "name": "stdout",
     "output_type": "stream",
     "text": [
      "Customer_care_calls\n",
      "    0 are over the upper bound: 8.0\n",
      "    0 are less than the lower bound: 0.0 \n",
      "\n",
      "Customer_rating\n",
      "    0 are over the upper bound: 7.0\n",
      "    0 are less than the lower bound: -1.0 \n",
      "\n",
      "Cost_of_the_Product\n",
      "    0 are over the upper bound: 374.0\n",
      "    0 are less than the lower bound: 46.0 \n",
      "\n",
      "Prior_purchases\n",
      "    1003 are over the upper bound: 5.5\n",
      "    0 are less than the lower bound: 1.5 \n",
      "\n",
      "Discount_offered\n",
      "    2262 are over the upper bound: 19.0\n",
      "    0 are less than the lower bound: -5.0 \n",
      "\n",
      "Weight_in_gms\n",
      "    0 are over the upper bound: 9865.75\n",
      "    0 are less than the lower bound: -2976.25 \n",
      "\n"
     ]
    },
    {
     "name": "stderr",
     "output_type": "stream",
     "text": [
      "C:\\Users\\Varun\\AppData\\Local\\Temp\\ipykernel_11368\\385444261.py:2: DeprecationWarning: the `interpolation=` argument to percentile was renamed to `method=`, which has additional options.\n",
      "Users of the modes 'nearest', 'lower', 'higher', or 'midpoint' are encouraged to review the method they used. (Deprecated NumPy 1.22)\n",
      "  Q1 = np.percentile(arr,25,interpolation='midpoint')\n",
      "C:\\Users\\Varun\\AppData\\Local\\Temp\\ipykernel_11368\\385444261.py:3: DeprecationWarning: the `interpolation=` argument to percentile was renamed to `method=`, which has additional options.\n",
      "Users of the modes 'nearest', 'lower', 'higher', or 'midpoint' are encouraged to review the method they used. (Deprecated NumPy 1.22)\n",
      "  Q3 = np.percentile(arr,75,interpolation='midpoint')\n"
     ]
    }
   ],
   "source": [
    "def check_outliers(arr):\n",
    "    Q1 = np.percentile(arr,25,interpolation='midpoint') \n",
    "    Q3 = np.percentile(arr,75,interpolation='midpoint')\n",
    "    IQR = Q3 - Q1\n",
    "\n",
    "    #above upper bound\n",
    "    upper=Q3+1.5*IQR\n",
    "    upper_array=np.array(arr>=upper)\n",
    "    print(' '*3, len(upper_array[upper_array == True]), 'are over the upper bound:',upper)\n",
    "\n",
    "    #BeLow Lower bound\n",
    "\n",
    "    lower = Q1-1.5*IQR\n",
    "    lower_array=np.array(arr<=lower)\n",
    "    print(' '*3, len(lower_array[lower_array == True]), 'are less than the lower bound:', lower, \"\\n\")\n",
    "\n",
    "for i in data.drop(columns=['Warehouse_block', 'Mode_of_Shipment', 'Product_importance', 'Gender', 'Reached.on.Time_Y.N','ID']).columns:\n",
    "\n",
    "    if str(data[i].dtype)== 'object':\n",
    "        continue\n",
    "    print (i)\n",
    "    check_outliers(data[i])"
   ]
  },
  {
   "cell_type": "markdown",
   "id": "39ac80ff",
   "metadata": {},
   "source": [
    "### ACTIVITY 3 : DATA SPLITTING"
   ]
  },
  {
   "cell_type": "code",
   "execution_count": 9,
   "id": "a81b587f",
   "metadata": {},
   "outputs": [
    {
     "name": "stdout",
     "output_type": "stream",
     "text": [
      "(8799, 10)\n",
      "(2200, 10)\n",
      "(8799,)\n",
      "(2200,)\n"
     ]
    }
   ],
   "source": [
    "x_train, x_test, y_train, y_test = train_test_split(\n",
    "                                        data.drop(columns=['ID', 'Reached.on.Time_Y.N']), \n",
    "                                        data['Reached.on.Time_Y.N'], \n",
    "                                        random_state=1234, test_size = 0.20, \n",
    "                                        shuffle=True\n",
    "                                        )\n",
    "\n",
    "print(x_train.shape)\n",
    "print(x_test.shape)\n",
    "print(y_train.shape)\n",
    "print(y_test.shape)"
   ]
  },
  {
   "cell_type": "markdown",
   "id": "77426515",
   "metadata": {},
   "source": [
    "### ACTIVITY 4 : NORMALIZATION"
   ]
  },
  {
   "cell_type": "code",
   "execution_count": 10,
   "id": "f384d434",
   "metadata": {},
   "outputs": [],
   "source": [
    "from sklearn.preprocessing import MinMaxScaler"
   ]
  },
  {
   "cell_type": "code",
   "execution_count": 11,
   "id": "644bf64d",
   "metadata": {},
   "outputs": [],
   "source": [
    "scaler = MinMaxScaler()\n",
    "x_train_normalized = scaler.fit_transform(x_train)\n",
    "x_test_normalized = scaler.transform(x_test)"
   ]
  },
  {
   "cell_type": "markdown",
   "id": "8ec0dab9",
   "metadata": {},
   "source": [
    "# MILESTONE 3:- EXPLORATORY DATA ANALYSIS"
   ]
  },
  {
   "cell_type": "markdown",
   "id": "cd398ff6",
   "metadata": {},
   "source": [
    "### ACTIVITY 1 - DESCRIPTIVE STATISTICAL"
   ]
  },
  {
   "cell_type": "code",
   "execution_count": 12,
   "id": "59ee2a82",
   "metadata": {},
   "outputs": [
    {
     "data": {
      "text/html": [
       "<div>\n",
       "<style scoped>\n",
       "    .dataframe tbody tr th:only-of-type {\n",
       "        vertical-align: middle;\n",
       "    }\n",
       "\n",
       "    .dataframe tbody tr th {\n",
       "        vertical-align: top;\n",
       "    }\n",
       "\n",
       "    .dataframe thead th {\n",
       "        text-align: right;\n",
       "    }\n",
       "</style>\n",
       "<table border=\"1\" class=\"dataframe\">\n",
       "  <thead>\n",
       "    <tr style=\"text-align: right;\">\n",
       "      <th></th>\n",
       "      <th>ID</th>\n",
       "      <th>Warehouse_block</th>\n",
       "      <th>Mode_of_Shipment</th>\n",
       "      <th>Customer_care_calls</th>\n",
       "      <th>Customer_rating</th>\n",
       "      <th>Cost_of_the_Product</th>\n",
       "      <th>Prior_purchases</th>\n",
       "      <th>Product_importance</th>\n",
       "      <th>Gender</th>\n",
       "      <th>Discount_offered</th>\n",
       "      <th>Weight_in_gms</th>\n",
       "      <th>Reached.on.Time_Y.N</th>\n",
       "    </tr>\n",
       "  </thead>\n",
       "  <tbody>\n",
       "    <tr>\n",
       "      <th>count</th>\n",
       "      <td>10999.00000</td>\n",
       "      <td>10999.000000</td>\n",
       "      <td>10999.000000</td>\n",
       "      <td>10999.000000</td>\n",
       "      <td>10999.000000</td>\n",
       "      <td>10999.000000</td>\n",
       "      <td>10999.000000</td>\n",
       "      <td>10999.000000</td>\n",
       "      <td>10999.000000</td>\n",
       "      <td>10999.000000</td>\n",
       "      <td>10999.000000</td>\n",
       "      <td>10999.000000</td>\n",
       "    </tr>\n",
       "    <tr>\n",
       "      <th>mean</th>\n",
       "      <td>5500.00000</td>\n",
       "      <td>1.833167</td>\n",
       "      <td>0.998454</td>\n",
       "      <td>4.054459</td>\n",
       "      <td>2.990545</td>\n",
       "      <td>210.196836</td>\n",
       "      <td>3.567597</td>\n",
       "      <td>0.604600</td>\n",
       "      <td>0.495863</td>\n",
       "      <td>13.373216</td>\n",
       "      <td>3634.016729</td>\n",
       "      <td>0.596691</td>\n",
       "    </tr>\n",
       "    <tr>\n",
       "      <th>std</th>\n",
       "      <td>3175.28214</td>\n",
       "      <td>1.343823</td>\n",
       "      <td>0.567099</td>\n",
       "      <td>1.141490</td>\n",
       "      <td>1.413603</td>\n",
       "      <td>48.063272</td>\n",
       "      <td>1.522860</td>\n",
       "      <td>0.641464</td>\n",
       "      <td>0.500006</td>\n",
       "      <td>16.205527</td>\n",
       "      <td>1635.377251</td>\n",
       "      <td>0.490584</td>\n",
       "    </tr>\n",
       "    <tr>\n",
       "      <th>min</th>\n",
       "      <td>1.00000</td>\n",
       "      <td>0.000000</td>\n",
       "      <td>0.000000</td>\n",
       "      <td>2.000000</td>\n",
       "      <td>1.000000</td>\n",
       "      <td>96.000000</td>\n",
       "      <td>2.000000</td>\n",
       "      <td>0.000000</td>\n",
       "      <td>0.000000</td>\n",
       "      <td>1.000000</td>\n",
       "      <td>1001.000000</td>\n",
       "      <td>0.000000</td>\n",
       "    </tr>\n",
       "    <tr>\n",
       "      <th>25%</th>\n",
       "      <td>2750.50000</td>\n",
       "      <td>1.000000</td>\n",
       "      <td>1.000000</td>\n",
       "      <td>3.000000</td>\n",
       "      <td>2.000000</td>\n",
       "      <td>169.000000</td>\n",
       "      <td>3.000000</td>\n",
       "      <td>0.000000</td>\n",
       "      <td>0.000000</td>\n",
       "      <td>4.000000</td>\n",
       "      <td>1839.500000</td>\n",
       "      <td>0.000000</td>\n",
       "    </tr>\n",
       "    <tr>\n",
       "      <th>50%</th>\n",
       "      <td>5500.00000</td>\n",
       "      <td>1.000000</td>\n",
       "      <td>1.000000</td>\n",
       "      <td>4.000000</td>\n",
       "      <td>3.000000</td>\n",
       "      <td>214.000000</td>\n",
       "      <td>3.000000</td>\n",
       "      <td>1.000000</td>\n",
       "      <td>0.000000</td>\n",
       "      <td>7.000000</td>\n",
       "      <td>4149.000000</td>\n",
       "      <td>1.000000</td>\n",
       "    </tr>\n",
       "    <tr>\n",
       "      <th>75%</th>\n",
       "      <td>8249.50000</td>\n",
       "      <td>3.000000</td>\n",
       "      <td>1.000000</td>\n",
       "      <td>5.000000</td>\n",
       "      <td>4.000000</td>\n",
       "      <td>251.000000</td>\n",
       "      <td>4.000000</td>\n",
       "      <td>1.000000</td>\n",
       "      <td>1.000000</td>\n",
       "      <td>10.000000</td>\n",
       "      <td>5050.000000</td>\n",
       "      <td>1.000000</td>\n",
       "    </tr>\n",
       "    <tr>\n",
       "      <th>max</th>\n",
       "      <td>10999.00000</td>\n",
       "      <td>4.000000</td>\n",
       "      <td>2.000000</td>\n",
       "      <td>7.000000</td>\n",
       "      <td>5.000000</td>\n",
       "      <td>310.000000</td>\n",
       "      <td>10.000000</td>\n",
       "      <td>2.000000</td>\n",
       "      <td>1.000000</td>\n",
       "      <td>65.000000</td>\n",
       "      <td>7846.000000</td>\n",
       "      <td>1.000000</td>\n",
       "    </tr>\n",
       "  </tbody>\n",
       "</table>\n",
       "</div>"
      ],
      "text/plain": [
       "                ID  Warehouse_block  Mode_of_Shipment  Customer_care_calls  \\\n",
       "count  10999.00000     10999.000000      10999.000000         10999.000000   \n",
       "mean    5500.00000         1.833167          0.998454             4.054459   \n",
       "std     3175.28214         1.343823          0.567099             1.141490   \n",
       "min        1.00000         0.000000          0.000000             2.000000   \n",
       "25%     2750.50000         1.000000          1.000000             3.000000   \n",
       "50%     5500.00000         1.000000          1.000000             4.000000   \n",
       "75%     8249.50000         3.000000          1.000000             5.000000   \n",
       "max    10999.00000         4.000000          2.000000             7.000000   \n",
       "\n",
       "       Customer_rating  Cost_of_the_Product  Prior_purchases  \\\n",
       "count     10999.000000         10999.000000     10999.000000   \n",
       "mean          2.990545           210.196836         3.567597   \n",
       "std           1.413603            48.063272         1.522860   \n",
       "min           1.000000            96.000000         2.000000   \n",
       "25%           2.000000           169.000000         3.000000   \n",
       "50%           3.000000           214.000000         3.000000   \n",
       "75%           4.000000           251.000000         4.000000   \n",
       "max           5.000000           310.000000        10.000000   \n",
       "\n",
       "       Product_importance        Gender  Discount_offered  Weight_in_gms  \\\n",
       "count        10999.000000  10999.000000      10999.000000   10999.000000   \n",
       "mean             0.604600      0.495863         13.373216    3634.016729   \n",
       "std              0.641464      0.500006         16.205527    1635.377251   \n",
       "min              0.000000      0.000000          1.000000    1001.000000   \n",
       "25%              0.000000      0.000000          4.000000    1839.500000   \n",
       "50%              1.000000      0.000000          7.000000    4149.000000   \n",
       "75%              1.000000      1.000000         10.000000    5050.000000   \n",
       "max              2.000000      1.000000         65.000000    7846.000000   \n",
       "\n",
       "       Reached.on.Time_Y.N  \n",
       "count         10999.000000  \n",
       "mean              0.596691  \n",
       "std               0.490584  \n",
       "min               0.000000  \n",
       "25%               0.000000  \n",
       "50%               1.000000  \n",
       "75%               1.000000  \n",
       "max               1.000000  "
      ]
     },
     "execution_count": 12,
     "metadata": {},
     "output_type": "execute_result"
    }
   ],
   "source": [
    "data.describe(include='all')"
   ]
  },
  {
   "cell_type": "markdown",
   "id": "6d7f45bc",
   "metadata": {},
   "source": [
    "### VISUAL ANALYSIS"
   ]
  },
  {
   "cell_type": "markdown",
   "id": "ac929899",
   "metadata": {},
   "source": [
    "##### ACTIVITY 2.1 - UNIVARIATE ANALYSIS"
   ]
  },
  {
   "cell_type": "markdown",
   "id": "d9d7505f",
   "metadata": {},
   "source": [
    "##### ACTIVITY 2.2 - BIVARIATE ANALYSIS"
   ]
  },
  {
   "cell_type": "markdown",
   "id": "31603607",
   "metadata": {},
   "source": [
    "##### ACTIVITY 2.3 - MULTIVARIATE ANALYSIS"
   ]
  },
  {
   "cell_type": "markdown",
   "id": "f5b5aa59",
   "metadata": {},
   "source": [
    "##### SPLITTING DATA INTO TRAIN AND TEST"
   ]
  },
  {
   "cell_type": "code",
   "execution_count": 13,
   "id": "35285bf2",
   "metadata": {},
   "outputs": [],
   "source": [
    "# x_train, x_test, y_train, y_test = train_test_split(\n",
    "#                                         data.drop(columns=['ID', 'Reached.on.Time_Y.N']), \n",
    "#                                         data['Reached.on.Time_Y.N'], \n",
    "#                                         random_state=1234, test_size = 0.20, \n",
    "#                                         shuffle=True\n",
    "#                                         )\n",
    "\n",
    "# print(x_train.shape)\n",
    "# print(x_test.shape)\n",
    "# print(y_train.shape)\n",
    "# print(y_test.shape)"
   ]
  },
  {
   "cell_type": "markdown",
   "id": "73aea18c",
   "metadata": {},
   "source": [
    "# MILESTONE 4:- MODEL BUILDING"
   ]
  },
  {
   "cell_type": "markdown",
   "id": "2c7fa34b",
   "metadata": {},
   "source": [
    "### ACTIVITY 1: TRAINING THE MODEL IN MULTIPLE ALGORITHMS"
   ]
  },
  {
   "cell_type": "markdown",
   "id": "978b659d",
   "metadata": {},
   "source": [
    "##### ACTIVITY 1.1 - CREATING FUNCTION TO TRAIN THE MODELS"
   ]
  },
  {
   "cell_type": "code",
   "execution_count": 14,
   "id": "60046e2c",
   "metadata": {},
   "outputs": [],
   "source": [
    "def models_eval_mm(x_train,y_train,x_test,y_test):\n",
    "    lg= LogisticRegression(random_state=1234)\n",
    "    lg.fit(x_train,y_train)\n",
    "\n",
    "    print('--Logistic Regression')\n",
    "    print('Train Score:',lg.score(x_train,y_train)) \n",
    "    print('Test Score:',lg.score(x_test,y_test))\n",
    "    print()\n",
    "\n",
    "    lcv=LogisticRegressionCV(random_state=1234)\n",
    "    lcv.fit(x_train,y_train)\n",
    "    print('--Logistic Regression CV')\n",
    "    print('Train Score:', lcv.score(x_train,y_train)) \n",
    "    print('Test Score:', lcv.score(x_test,y_test))\n",
    "    print()\n",
    "\n",
    "    print('--XGBoost')\n",
    "    xgb=XGBClassifier(random_state=1234)\n",
    "    xgb.fit(x_train,y_train) \n",
    "    print('Train Score:',xgb.score(x_train,y_train)) \n",
    "    print('Test Score:',xgb.score(x_test,y_test))\n",
    "    print()\n",
    "\n",
    "    print('--Ridge Classifier')\n",
    "    rg=RidgeClassifier(random_state=1234)\n",
    "    rg.fit(x_train,y_train)\n",
    "    print('Train Score:',rg.score(x_train,y_train))\n",
    "    print('Test Scores',rg.score(x_test,y_test))\n",
    "    print()\n",
    "\n",
    "    print('-KNN')\n",
    "    knn=KNeighborsClassifier()\n",
    "    knn.fit(x_train,y_train)\n",
    "    print('Train Score:',knn.score(x_train,y_train)) \n",
    "    print('Test Score:',knn.score(x_test,y_test))\n",
    "    print()\n",
    "\n",
    "    print('Random Forest')\n",
    "    rf=RandomForestClassifier(random_state=1234) \n",
    "    rf.fit(x_train,y_train) \n",
    "    print('Train Score:',rf.score(x_train,y_train)) \n",
    "    print('Test Score:',rf.score(x_test,y_test))\n",
    "    print()\n",
    "\n",
    "    print('--SM classifier')\n",
    "    svc=svm.SVC(random_state=1234)\n",
    "    svc.fit(x_train,y_train)\n",
    "    print('Train Score:',svc.score(x_train,y_train)) \n",
    "    print('Test Score:', svc.score(x_test,y_test))\n",
    "    print()\n",
    "\n",
    "    return lg,lcv,xgb,rg,knn,rf,svc"
   ]
  },
  {
   "cell_type": "markdown",
   "id": "13b08f0d",
   "metadata": {},
   "source": [
    "##### ACTIVITY 1.2 -  CALLING THE FUNCTION"
   ]
  },
  {
   "cell_type": "code",
   "execution_count": 15,
   "id": "9d2a5696",
   "metadata": {},
   "outputs": [
    {
     "name": "stdout",
     "output_type": "stream",
     "text": [
      "--Logistic Regression\n",
      "Train Score: 0.6416638254347085\n",
      "Test Score: 0.639090909090909\n",
      "\n",
      "--Logistic Regression CV\n",
      "Train Score: 0.6417774747130356\n",
      "Test Score: 0.639090909090909\n",
      "\n",
      "--XGBoost\n",
      "Train Score: 0.9060120468235027\n",
      "Test Score: 0.64\n",
      "\n",
      "--Ridge Classifier\n",
      "Train Score: 0.650642118422548\n",
      "Test Scores 0.6522727272727272\n",
      "\n",
      "-KNN\n",
      "Train Score: 0.7789521536538243\n",
      "Test Score: 0.635\n",
      "\n",
      "Random Forest\n",
      "Train Score: 1.0\n",
      "Test Score: 0.6568181818181819\n",
      "\n",
      "--SM classifier\n",
      "Train Score: 0.6903057165586999\n",
      "Test Score: 0.6586363636363637\n",
      "\n"
     ]
    }
   ],
   "source": [
    "lg,lcv,xgb,rg,knn,rf,svc=models_eval_mm(x_train_normalized,y_train,x_test_normalized,y_test)"
   ]
  },
  {
   "cell_type": "markdown",
   "id": "4771dff7",
   "metadata": {},
   "source": [
    "### ACTIVITY 2: TESTING THE MODELS"
   ]
  },
  {
   "cell_type": "code",
   "execution_count": 16,
   "id": "012b9a11",
   "metadata": {},
   "outputs": [
    {
     "data": {
      "text/plain": [
       "array([1], dtype=int64)"
      ]
     },
     "execution_count": 16,
     "metadata": {},
     "output_type": "execute_result"
    }
   ],
   "source": [
    "lg.predict(x_test_normalized[0].reshape(1,-1))"
   ]
  },
  {
   "cell_type": "code",
   "execution_count": 17,
   "id": "3a442d45",
   "metadata": {},
   "outputs": [
    {
     "data": {
      "text/plain": [
       "array([1], dtype=int64)"
      ]
     },
     "execution_count": 17,
     "metadata": {},
     "output_type": "execute_result"
    }
   ],
   "source": [
    "lcv.predict(x_test_normalized[0].reshape(1,-1))"
   ]
  },
  {
   "cell_type": "code",
   "execution_count": 18,
   "id": "a6f94681",
   "metadata": {},
   "outputs": [
    {
     "data": {
      "text/plain": [
       "array([1])"
      ]
     },
     "execution_count": 18,
     "metadata": {},
     "output_type": "execute_result"
    }
   ],
   "source": [
    "xgb.predict(x_test_normalized[0].reshape(1,-1))"
   ]
  },
  {
   "cell_type": "code",
   "execution_count": 19,
   "id": "7e17446e",
   "metadata": {},
   "outputs": [
    {
     "data": {
      "text/plain": [
       "array([1], dtype=int64)"
      ]
     },
     "execution_count": 19,
     "metadata": {},
     "output_type": "execute_result"
    }
   ],
   "source": [
    "rg.predict(x_test_normalized[0].reshape(1,-1))"
   ]
  },
  {
   "cell_type": "code",
   "execution_count": 20,
   "id": "e3a568c7",
   "metadata": {},
   "outputs": [
    {
     "data": {
      "text/plain": [
       "array([0], dtype=int64)"
      ]
     },
     "execution_count": 20,
     "metadata": {},
     "output_type": "execute_result"
    }
   ],
   "source": [
    "knn.predict(x_test_normalized[0].reshape(1,-1))"
   ]
  },
  {
   "cell_type": "code",
   "execution_count": 21,
   "id": "3532f8b1",
   "metadata": {},
   "outputs": [
    {
     "data": {
      "text/plain": [
       "array([0], dtype=int64)"
      ]
     },
     "execution_count": 21,
     "metadata": {},
     "output_type": "execute_result"
    }
   ],
   "source": [
    "rf.predict(x_test_normalized[0].reshape(1,-1))"
   ]
  },
  {
   "cell_type": "code",
   "execution_count": 22,
   "id": "5598e1e9",
   "metadata": {},
   "outputs": [
    {
     "data": {
      "text/plain": [
       "array([1], dtype=int64)"
      ]
     },
     "execution_count": 22,
     "metadata": {},
     "output_type": "execute_result"
    }
   ],
   "source": [
    "svc.predict(x_test_normalized[0].reshape(1,-1))"
   ]
  },
  {
   "cell_type": "markdown",
   "id": "d02fd4a4",
   "metadata": {},
   "source": [
    "# MILESTONE 5:- PERFORMANCE TESTING AND HYPERPARAMETER TUNING"
   ]
  },
  {
   "cell_type": "markdown",
   "id": "4f7495e0",
   "metadata": {},
   "source": [
    "### ACTIVITY 1: TESTING THE MODEL WITH MULTIPLE EVALUATION METRICS"
   ]
  },
  {
   "cell_type": "markdown",
   "id": "dc970d6e",
   "metadata": {},
   "source": [
    "##### ACTIVITY 1.1: COMPARE THE MODELS"
   ]
  },
  {
   "cell_type": "code",
   "execution_count": 23,
   "id": "892f995f",
   "metadata": {},
   "outputs": [],
   "source": [
    "def eval(name,model):\n",
    "    y_pred = model.predict(x_test_normalized)\n",
    "    result = []\n",
    "    result.append(name)\n",
    "    result.append(\"{:.2f}\".format(accuracy_score(y_test, y_pred) * 100)) \n",
    "    result.append(\"{:.2f}\".format(f1_score(y_test, y_pred)*100))\n",
    "    result.append(\"{:.2f}\".format(recall_score(y_test, y_pred)*100)) \n",
    "    result.append(\"{:.2f}\".format(precision_score(y_test, y_pred)*100))\n",
    "    return result\n",
    "\n"
   ]
  },
  {
   "cell_type": "code",
   "execution_count": 24,
   "id": "ecf22d5b",
   "metadata": {},
   "outputs": [
    {
     "data": {
      "text/html": [
       "<div>\n",
       "<style scoped>\n",
       "    .dataframe tbody tr th:only-of-type {\n",
       "        vertical-align: middle;\n",
       "    }\n",
       "\n",
       "    .dataframe tbody tr th {\n",
       "        vertical-align: top;\n",
       "    }\n",
       "\n",
       "    .dataframe thead th {\n",
       "        text-align: right;\n",
       "    }\n",
       "</style>\n",
       "<table border=\"1\" class=\"dataframe\">\n",
       "  <thead>\n",
       "    <tr style=\"text-align: right;\">\n",
       "      <th></th>\n",
       "      <th>Name</th>\n",
       "      <th>Accuracy</th>\n",
       "      <th>f1_score</th>\n",
       "      <th>Recall</th>\n",
       "      <th>Precision</th>\n",
       "    </tr>\n",
       "  </thead>\n",
       "  <tbody>\n",
       "    <tr>\n",
       "      <th>0</th>\n",
       "      <td>logistic regression</td>\n",
       "      <td>63.91</td>\n",
       "      <td>69.06</td>\n",
       "      <td>67.94</td>\n",
       "      <td>70.21</td>\n",
       "    </tr>\n",
       "    <tr>\n",
       "      <th>1</th>\n",
       "      <td>logistic regression CV</td>\n",
       "      <td>63.91</td>\n",
       "      <td>69.22</td>\n",
       "      <td>68.48</td>\n",
       "      <td>69.98</td>\n",
       "    </tr>\n",
       "    <tr>\n",
       "      <th>2</th>\n",
       "      <td>XGBoost</td>\n",
       "      <td>64.00</td>\n",
       "      <td>68.55</td>\n",
       "      <td>66.18</td>\n",
       "      <td>71.09</td>\n",
       "    </tr>\n",
       "    <tr>\n",
       "      <th>3</th>\n",
       "      <td>Ridge classifier</td>\n",
       "      <td>65.23</td>\n",
       "      <td>70.47</td>\n",
       "      <td>70.02</td>\n",
       "      <td>70.94</td>\n",
       "    </tr>\n",
       "    <tr>\n",
       "      <th>4</th>\n",
       "      <td>KNN</td>\n",
       "      <td>63.50</td>\n",
       "      <td>68.50</td>\n",
       "      <td>66.95</td>\n",
       "      <td>70.12</td>\n",
       "    </tr>\n",
       "    <tr>\n",
       "      <th>5</th>\n",
       "      <td>Random Forest</td>\n",
       "      <td>65.68</td>\n",
       "      <td>68.69</td>\n",
       "      <td>63.50</td>\n",
       "      <td>74.80</td>\n",
       "    </tr>\n",
       "    <tr>\n",
       "      <th>6</th>\n",
       "      <td>Support Vector Classifier</td>\n",
       "      <td>65.86</td>\n",
       "      <td>67.08</td>\n",
       "      <td>58.67</td>\n",
       "      <td>78.30</td>\n",
       "    </tr>\n",
       "  </tbody>\n",
       "</table>\n",
       "</div>"
      ],
      "text/plain": [
       "                        Name Accuracy f1_score Recall Precision\n",
       "0        logistic regression    63.91    69.06  67.94     70.21\n",
       "1     logistic regression CV    63.91    69.22  68.48     69.98\n",
       "2                    XGBoost    64.00    68.55  66.18     71.09\n",
       "3           Ridge classifier    65.23    70.47  70.02     70.94\n",
       "4                        KNN    63.50    68.50  66.95     70.12\n",
       "5              Random Forest    65.68    68.69  63.50     74.80\n",
       "6  Support Vector Classifier    65.86    67.08  58.67     78.30"
      ]
     },
     "execution_count": 24,
     "metadata": {},
     "output_type": "execute_result"
    }
   ],
   "source": [
    "model_list = {\n",
    "    'logistic regression':lg,\n",
    "    'logistic regression CV':lcv,\n",
    "    'XGBoost':xgb,\n",
    "    'Ridge classifier':rg,\n",
    "    'KNN': knn,\n",
    "    'Random Forest':rf,\n",
    "    'Support Vector Classifier': svc\n",
    "}\n",
    "\n",
    "model_eval_info = []\n",
    "\n",
    "for i in model_list.keys():\n",
    "    model_eval_info.append(eval(i,model_list[i]))\n",
    "\n",
    "model_eval_info = pd.DataFrame(model_eval_info, columns=['Name', 'Accuracy', 'f1_score', 'Recall', 'Precision'])\n",
    "model_eval_info.to_csv('model_eval.csv')\n",
    "model_eval_info"
   ]
  },
  {
   "cell_type": "markdown",
   "id": "ab8eedb7",
   "metadata": {},
   "source": [
    "### ACTIVITY 2-COMPARING MODEL ACCURACY AFTER HYPERPARAMETER TUNING"
   ]
  },
  {
   "cell_type": "code",
   "execution_count": 25,
   "id": "98dfeef3",
   "metadata": {},
   "outputs": [
    {
     "data": {
      "text/plain": [
       "{'objective': 'binary:logistic',\n",
       " 'base_score': None,\n",
       " 'booster': None,\n",
       " 'callbacks': None,\n",
       " 'colsample_bylevel': None,\n",
       " 'colsample_bynode': None,\n",
       " 'colsample_bytree': None,\n",
       " 'device': None,\n",
       " 'early_stopping_rounds': None,\n",
       " 'enable_categorical': False,\n",
       " 'eval_metric': None,\n",
       " 'feature_types': None,\n",
       " 'gamma': None,\n",
       " 'grow_policy': None,\n",
       " 'importance_type': None,\n",
       " 'interaction_constraints': None,\n",
       " 'learning_rate': None,\n",
       " 'max_bin': None,\n",
       " 'max_cat_threshold': None,\n",
       " 'max_cat_to_onehot': None,\n",
       " 'max_delta_step': None,\n",
       " 'max_depth': None,\n",
       " 'max_leaves': None,\n",
       " 'min_child_weight': None,\n",
       " 'missing': nan,\n",
       " 'monotone_constraints': None,\n",
       " 'multi_strategy': None,\n",
       " 'n_estimators': None,\n",
       " 'n_jobs': None,\n",
       " 'num_parallel_tree': None,\n",
       " 'random_state': 1234,\n",
       " 'reg_alpha': None,\n",
       " 'reg_lambda': None,\n",
       " 'sampling_method': None,\n",
       " 'scale_pos_weight': None,\n",
       " 'subsample': None,\n",
       " 'tree_method': None,\n",
       " 'validate_parameters': None,\n",
       " 'verbosity': None}"
      ]
     },
     "execution_count": 25,
     "metadata": {},
     "output_type": "execute_result"
    }
   ],
   "source": [
    "xgb.get_params() ##"
   ]
  },
  {
   "cell_type": "code",
   "execution_count": 26,
   "id": "19a01374",
   "metadata": {},
   "outputs": [
    {
     "data": {
      "text/plain": [
       "{'bootstrap': True,\n",
       " 'ccp_alpha': 0.0,\n",
       " 'class_weight': None,\n",
       " 'criterion': 'gini',\n",
       " 'max_depth': None,\n",
       " 'max_features': 'sqrt',\n",
       " 'max_leaf_nodes': None,\n",
       " 'max_samples': None,\n",
       " 'min_impurity_decrease': 0.0,\n",
       " 'min_samples_leaf': 1,\n",
       " 'min_samples_split': 2,\n",
       " 'min_weight_fraction_leaf': 0.0,\n",
       " 'n_estimators': 100,\n",
       " 'n_jobs': None,\n",
       " 'oob_score': False,\n",
       " 'random_state': 1234,\n",
       " 'verbose': 0,\n",
       " 'warm_start': False}"
      ]
     },
     "execution_count": 26,
     "metadata": {},
     "output_type": "execute_result"
    }
   ],
   "source": [
    "rf.get_params()"
   ]
  },
  {
   "cell_type": "code",
   "execution_count": 27,
   "id": "65abe667",
   "metadata": {},
   "outputs": [
    {
     "data": {
      "text/plain": [
       "{'Cs': 10,\n",
       " 'class_weight': None,\n",
       " 'cv': None,\n",
       " 'dual': False,\n",
       " 'fit_intercept': True,\n",
       " 'intercept_scaling': 1.0,\n",
       " 'l1_ratios': None,\n",
       " 'max_iter': 100,\n",
       " 'multi_class': 'auto',\n",
       " 'n_jobs': None,\n",
       " 'penalty': 'l2',\n",
       " 'random_state': 1234,\n",
       " 'refit': True,\n",
       " 'scoring': None,\n",
       " 'solver': 'lbfgs',\n",
       " 'tol': 0.0001,\n",
       " 'verbose': 0}"
      ]
     },
     "execution_count": 27,
     "metadata": {},
     "output_type": "execute_result"
    }
   ],
   "source": [
    "lcv.get_params()"
   ]
  },
  {
   "cell_type": "markdown",
   "id": "73d462d9",
   "metadata": {},
   "source": [
    "##### HYPERPARAMETER OPTIMISATION FOR SVM"
   ]
  },
  {
   "cell_type": "code",
   "execution_count": 28,
   "id": "94450c8d",
   "metadata": {},
   "outputs": [
    {
     "name": "stdout",
     "output_type": "stream",
     "text": [
      "Fitting 5 folds for each of 24 candidates, totalling 120 fits\n",
      "SVC(C=13, gamma=5, kernel='poly', random_state=1234, tol=0.01) {'C': 13, 'gamma': 5, 'kernel': 'poly', 'tol': 0.01} 0.6572318336864955\n"
     ]
    }
   ],
   "source": [
    "svc = svm.SVC(random_state=1234)\n",
    "\n",
    "params = {\n",
    "    'kernel': ['poly', 'rbf'], \n",
    "    'C': [ 10, 13], \n",
    "    'gamma': [4,5], \n",
    "    'tol':[1e-1,1e-2,1e-3] }\n",
    "\n",
    "fitmodel = GridSearchCV(svc, param_grid=params, cv=5, refit=True, scoring=\"accuracy\", n_jobs=-1, verbose=3) \n",
    "fitmodel.fit(x_train_normalized, y_train) \n",
    "print(fitmodel.best_estimator_, fitmodel.best_params_, fitmodel.best_score_)\n",
    "\n",
    "# SVC(C=10, gamma-1, random_state=1234) ('C': 10, 'gamma': 1, 'kernel': 'rbf') 0.6657575326890279\n",
    "#SVC(C=6, gamma-2, random_state=1234) {'C': 6, 'gamma': 2, 'kernel': 'rbf') 0.6659845470050132"
   ]
  },
  {
   "cell_type": "markdown",
   "id": "3fdacff1",
   "metadata": {},
   "source": [
    "##### HYPERPARAMETER OPTIMISATION FOR XGBOOST"
   ]
  },
  {
   "cell_type": "code",
   "execution_count": 29,
   "id": "aa9c1476",
   "metadata": {},
   "outputs": [
    {
     "name": "stdout",
     "output_type": "stream",
     "text": [
      "Fitting 5 folds for each of 54 candidates, totalling 270 fits\n",
      "XGBClassifier(base_score=None, booster=None, callbacks=None,\n",
      "              colsample_bylevel=None, colsample_bynode=None,\n",
      "              colsample_bytree=0.8, device=None, early_stopping_rounds=None,\n",
      "              enable_categorical=False, eval_metric=None, feature_types=None,\n",
      "              gamma=2.5, grow_policy=None, importance_type=None,\n",
      "              interaction_constraints=None, learning_rate=0.5, max_bin=None,\n",
      "              max_cat_threshold=None, max_cat_to_onehot=None,\n",
      "              max_delta_step=None, max_depth=4, max_leaves=None,\n",
      "              min_child_weight=10, missing=nan, monotone_constraints=None,\n",
      "              multi_strategy=None, n_estimators=100, n_jobs=None, nthread=3,\n",
      "              num_parallel_tree=None, ...) {'colsample_bytree': 0.8, 'gamma': 2.5, 'max_depth': 4, 'min_child_weight': 10} 0.6817814874153704\n"
     ]
    }
   ],
   "source": [
    "params = {\n",
    "    'min_child_weight': [10,20], \n",
    "    'gamma': [1.5, 2.0, 2.5], \n",
    "    'colsample_bytree': [0.6, 0.8, 0.9], \n",
    "    'max_depth': [4,5,6] } \n",
    "\n",
    "xgb= XGBClassifier(learning_rate=0.5, n_estimators=100, objective='binary:logistic', nthread=3) \n",
    "fitmodel = GridSearchCV(xgb, param_grid=params, cv=5, refit=True, scoring=\"accuracy\", n_jobs=2, verbose=3) \n",
    "fitmodel.fit(x_train_normalized, y_train)\n",
    "print(fitmodel.best_estimator_, fitmodel.best_params_, fitmodel.best_score_)\n",
    "\n",
    "#{'colsample_bytree': 0.8, 'gamma: 2.0, 'max_depth': 4, 'min_child_weight: 10) 0.6688713628611298"
   ]
  },
  {
   "cell_type": "markdown",
   "id": "d21e41bd",
   "metadata": {},
   "source": [
    "##### HYPERPARAMETER OPTIMISATION FOR LOGISTIC REGRESSION"
   ]
  },
  {
   "cell_type": "code",
   "execution_count": 30,
   "id": "b3f33d5c",
   "metadata": {},
   "outputs": [
    {
     "name": "stdout",
     "output_type": "stream",
     "text": [
      "Fitting 5 folds for each of 15 candidates, totalling 75 fits\n",
      "Best Score: 0.6430276758488811\n",
      "Best Parameters:{'Cs': 10, 'max_iter': 60}\n"
     ]
    }
   ],
   "source": [
    "# Plug in appropriate max_depth and random_state parameters\n",
    "\n",
    "lg= LogisticRegressionCV(n_jobs=-1, random_state= 1234)\n",
    "\n",
    "lg_param_grid = {\n",
    "    'Cs': [6,8,10,15,20],\n",
    "    'max_iter': [60,80,100]}\n",
    "\n",
    "lg_cv= GridSearchCV(lg,lg_param_grid, cv=5, scoring=\"accuracy\", n_jobs=-1, verbose=3)\n",
    "lg_cv.fit(x_train_normalized,y_train)\n",
    "print(\"Best Score: \" + str(lg_cv.best_score_))\n",
    "print(\"Best Parameters:\" + str(lg_cv.best_params_))\n",
    "\n",
    "#Best Score: 0.633821644529433\n",
    "#Best Parameters: {'Cs': 10, 'max_iter': 60}"
   ]
  },
  {
   "cell_type": "markdown",
   "id": "c3f18dc2",
   "metadata": {},
   "source": [
    "##### HYPERPARAMETER OPTIMISATION FOR RANDOM FOREST"
   ]
  },
  {
   "cell_type": "code",
   "execution_count": 31,
   "id": "1c137329",
   "metadata": {},
   "outputs": [
    {
     "name": "stdout",
     "output_type": "stream",
     "text": [
      "Fitting 7 folds for each of 90 candidates, totalling 630 fits\n"
     ]
    },
    {
     "name": "stderr",
     "output_type": "stream",
     "text": [
      "d:\\program files\\python\\lib\\site-packages\\sklearn\\ensemble\\_forest.py:424: FutureWarning: `max_features='auto'` has been deprecated in 1.1 and will be removed in 1.3. To keep the past behaviour, explicitly set `max_features='sqrt'` or remove this parameter as it is also the default value for RandomForestClassifiers and ExtraTreesClassifiers.\n",
      "  warn(\n"
     ]
    },
    {
     "name": "stdout",
     "output_type": "stream",
     "text": [
      "Best Score: 0.6847369019206729\n",
      "Best Parameters: {'criterion': 'entropy', 'max_depth': 7, 'max_features': 'auto', 'n_estimators': 200}\n"
     ]
    }
   ],
   "source": [
    "# Plug in appropriate max_depth and random_state parameters\n",
    "\n",
    "rf=RandomForestClassifier()\n",
    "\n",
    "rf_param_grid = {\n",
    "    'n_estimators': [200,300,500], \n",
    "    'criterion': ['entropy', 'gini'], \n",
    "    'max_depth': [7,8,60,80,100], \n",
    "    'max_features': ['auto', 'sqrt', 'log2']}\n",
    "\n",
    "rf_cv= GridSearchCV(rf, rf_param_grid, cv=7, scoring=\"accuracy\", n_jobs=-1, verbose=3) \n",
    "rf_cv.fit(x_train_normalized,y_train)\n",
    "print(\"Best Score: \" + str(rf_cv.best_score_)) \n",
    "print(\"Best Parameters: \" + str(rf_cv.best_params_))\n",
    "\n",
    "#Best Score: 0.6849642004773271\n",
    "#Best Parameters: {'criterion': 'entropy', 'max_depth': 7, 'max features': 'auto', 'n_estimators: 200)"
   ]
  },
  {
   "cell_type": "markdown",
   "id": "425a7e53",
   "metadata": {},
   "source": [
    "# MILESTONE 6:- MODEL DEPLOYMENT"
   ]
  },
  {
   "cell_type": "markdown",
   "id": "c7e02f5d",
   "metadata": {},
   "source": [
    "### ACTIVITY 1-SAVE THE BEST MODEL"
   ]
  },
  {
   "cell_type": "code",
   "execution_count": 38,
   "id": "3a7bc8ef",
   "metadata": {},
   "outputs": [],
   "source": [
    "import pickle \n",
    "from flask import Flask,request,render_template"
   ]
  },
  {
   "cell_type": "code",
   "execution_count": 48,
   "id": "a5bcd10d",
   "metadata": {},
   "outputs": [],
   "source": [
    "pickle.dump(rf,open('rf_acc_68.pkl','wb'))"
   ]
  },
  {
   "cell_type": "code",
   "execution_count": 47,
   "id": "9c343c69",
   "metadata": {},
   "outputs": [],
   "source": [
    "# pickle.dump(Data_normalizer,open('normalizer.pkl','wb'))"
   ]
  },
  {
   "cell_type": "markdown",
   "id": "b942d35d",
   "metadata": {},
   "source": [
    "### ACTIVITY 2: INTEGRATE WITH WEB FRAMEWORK"
   ]
  },
  {
   "cell_type": "markdown",
   "id": "cfa9cfa0",
   "metadata": {},
   "source": [
    "##### ACTIVITY 2.1 - BUILDING THE HTML PAGES"
   ]
  },
  {
   "cell_type": "markdown",
   "id": "bc157fe6",
   "metadata": {},
   "source": [
    "##### ACTIVITY 2.2 - BUILD THE PYTHON CODE"
   ]
  },
  {
   "cell_type": "code",
   "execution_count": 75,
   "id": "703fc8ac",
   "metadata": {},
   "outputs": [],
   "source": [
    "app=Flask(__name__)\n",
    "model=pickle.dump(rf,open(\"rf_acc_68.pkl\",\"wb\"))\n",
    "# Data_normalizer=pkl.dump(open(\"normalizer.pkl\",\"wb\"))"
   ]
  },
  {
   "cell_type": "code",
   "execution_count": 76,
   "id": "7fe62aae",
   "metadata": {},
   "outputs": [],
   "source": [
    "@app.route('/')\n",
    "def indput():\n",
    "    return render_template('index.html')"
   ]
  },
  {
   "cell_type": "code",
   "execution_count": 77,
   "id": "438abe7b",
   "metadata": {},
   "outputs": [],
   "source": [
    "@app.route('/predict', methods = ['GET', 'POST'])\n",
    "\n",
    "def admin():\n",
    "\n",
    "    Warehouse_block=eval (request.form[\"warehouse_block\"])\n",
    "    Mode_of_Shipment-eval (request.form[\"Mode_of_Shipment\"]) \n",
    "    Customer_care_calls=eval (request.form[ \"Customer_care_calls\"])\n",
    "    Customer_rating-eval (request.form[\"Customer_rating\"])\n",
    "    Cost_of_the_Product = eval (request.form[\"Cost_of_the_Product\"]) \n",
    "    Prior_purchases = eval (request.form[\"Prior_purchases\"])\n",
    "    Product_importance = eval(request.form[\"Product_importance\"]) \n",
    "    Gender = eval(request.form[\"Gender\"])\n",
    "    Discount_offered = eval(request.form[\"Discount offered\"])\n",
    "    weight_in_gms = eval(request.form[ \"Weight_in_gms\"])\n",
    "    preds=[[Warehouse_block, Mode_of_Shipment, Customer_care_calls, Customer_rating, Cost_of_the_Product, Prior_purchases, Product_importance, Gender,Discount_offered,weight_in_gms]]\n",
    "    xx = model.predict(Data_normalizer.transform(preds))\n",
    "    prob = model.predict_proba(Data_normalizer.transform(preds))[0]\n",
    "    n_reach = prob[0]\n",
    "    reach = prob[1]\n",
    "    print('There is a (0:.2f)% chance that your product will reach in time'.format (reach*100))\n",
    "    print(xx)\n",
    "    return render_template(\"index.html\",p='There is a (0:.2f} % chance that your product will reach in time'.format(reach*100))\n"
   ]
  },
  {
   "cell_type": "markdown",
   "id": "1ef59b77",
   "metadata": {},
   "source": [
    "##### ACTIVITY 2.3 - RUN THE WEB APPLICATION"
   ]
  },
  {
   "cell_type": "code",
   "execution_count": null,
   "id": "5c78c1a2",
   "metadata": {},
   "outputs": [
    {
     "name": "stdout",
     "output_type": "stream",
     "text": [
      " * Serving Flask app '__main__'\n",
      " * Debug mode: off\n"
     ]
    },
    {
     "name": "stderr",
     "output_type": "stream",
     "text": [
      "WARNING: This is a development server. Do not use it in a production deployment. Use a production WSGI server instead.\n",
      " * Running on http://127.0.0.1:4000\n",
      "Press CTRL+C to quit\n",
      "[2023-11-20 02:08:55,207] ERROR in app: Exception on / [GET]\n",
      "Traceback (most recent call last):\n",
      "  File \"d:\\program files\\python\\lib\\site-packages\\flask\\app.py\", line 1455, in wsgi_app\n",
      "    response = self.full_dispatch_request()\n",
      "  File \"d:\\program files\\python\\lib\\site-packages\\flask\\app.py\", line 869, in full_dispatch_request\n",
      "    rv = self.handle_user_exception(e)\n",
      "  File \"d:\\program files\\python\\lib\\site-packages\\flask\\app.py\", line 867, in full_dispatch_request\n",
      "    rv = self.dispatch_request()\n",
      "  File \"d:\\program files\\python\\lib\\site-packages\\flask\\app.py\", line 852, in dispatch_request\n",
      "    return self.ensure_sync(self.view_functions[rule.endpoint])(**view_args)\n",
      "  File \"C:\\Users\\Varun\\AppData\\Local\\Temp\\ipykernel_11368\\4240087122.py\", line 3, in indput\n",
      "    return render_template('index.html')\n",
      "  File \"d:\\program files\\python\\lib\\site-packages\\flask\\templating.py\", line 151, in render_template\n",
      "    template = app.jinja_env.get_or_select_template(template_name_or_list)\n",
      "  File \"d:\\program files\\python\\lib\\site-packages\\jinja2\\environment.py\", line 1081, in get_or_select_template\n",
      "    return self.get_template(template_name_or_list, parent, globals)\n",
      "  File \"d:\\program files\\python\\lib\\site-packages\\jinja2\\environment.py\", line 1010, in get_template\n",
      "    return self._load_template(name, globals)\n",
      "  File \"d:\\program files\\python\\lib\\site-packages\\jinja2\\environment.py\", line 969, in _load_template\n",
      "    template = self.loader.load(self, name, self.make_globals(globals))\n",
      "  File \"d:\\program files\\python\\lib\\site-packages\\jinja2\\loaders.py\", line 126, in load\n",
      "    source, filename, uptodate = self.get_source(environment, name)\n",
      "  File \"d:\\program files\\python\\lib\\site-packages\\flask\\templating.py\", line 65, in get_source\n",
      "    return self._get_source_fast(environment, template)\n",
      "  File \"d:\\program files\\python\\lib\\site-packages\\flask\\templating.py\", line 99, in _get_source_fast\n",
      "    raise TemplateNotFound(template)\n",
      "jinja2.exceptions.TemplateNotFound: index.html\n",
      "127.0.0.1 - - [20/Nov/2023 02:08:55] \"GET / HTTP/1.1\" 500 -\n"
     ]
    }
   ],
   "source": [
    "if __name__=='__main__' :\n",
    "    app.run(debug = False, port=4000)"
   ]
  },
  {
   "cell_type": "code",
   "execution_count": null,
   "id": "58762bfd",
   "metadata": {},
   "outputs": [],
   "source": []
  },
  {
   "cell_type": "code",
   "execution_count": null,
   "id": "4ac03d32",
   "metadata": {},
   "outputs": [],
   "source": []
  }
 ],
 "metadata": {
  "kernelspec": {
   "display_name": "Python 3 (ipykernel)",
   "language": "python",
   "name": "python3"
  },
  "language_info": {
   "codemirror_mode": {
    "name": "ipython",
    "version": 3
   },
   "file_extension": ".py",
   "mimetype": "text/x-python",
   "name": "python",
   "nbconvert_exporter": "python",
   "pygments_lexer": "ipython3",
   "version": "3.8.10"
  }
 },
 "nbformat": 4,
 "nbformat_minor": 5
}
